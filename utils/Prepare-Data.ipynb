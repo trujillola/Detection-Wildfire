{
 "cells": [
  {
   "cell_type": "code",
   "execution_count": 1,
   "metadata": {},
   "outputs": [
    {
     "name": "stdout",
     "output_type": "stream",
     "text": [
      "{'jpg': 2962, 'JPG': 14, 'jpeg': 23, 'png': 322}\n"
     ]
    }
   ],
   "source": [
    "import os,sys\n",
    "import numpy as np\n",
    "from PIL import Image\n",
    "import csv\n",
    "\n",
    "PATH_DATA = \"./../dataset/data/Fire-Diverse-Dataset/\"\n",
    "PATH_TARGET_FINAL = \"./../dataset/data_preprocessed/\"\n",
    "\n",
    "#Finding the different image extensions\n",
    "extensions_dict = {}\n",
    "\n",
    "path_list = [PATH_DATA]\n",
    "\n",
    "for p in path_list:\n",
    "    for (path,dirs,files) in os.walk(p):\n",
    "        if files:\n",
    "            for f in files:\n",
    "                f_ext = f.split('.')[-1]\n",
    "\n",
    "                if f_ext in extensions_dict:\n",
    "                    extensions_dict[f_ext] += 1\n",
    "                else:\n",
    "                    extensions_dict[f_ext] = 1\n",
    "\n",
    "print(extensions_dict)\n"
   ]
  },
  {
   "attachments": {},
   "cell_type": "markdown",
   "metadata": {},
   "source": [
    "## Order the data into fire and no_fire folders"
   ]
  },
  {
   "cell_type": "code",
   "execution_count": 2,
   "metadata": {},
   "outputs": [
    {
     "ename": "FileNotFoundError",
     "evalue": "[Errno 2] No such file or directory: './../dataset/data/Fire_Raw-data/FIRE-SMOKE-DATASET/Test/Fire'",
     "output_type": "error",
     "traceback": [
      "\u001b[0;31m---------------------------------------------------------------------------\u001b[0m",
      "\u001b[0;31mFileNotFoundError\u001b[0m                         Traceback (most recent call last)",
      "\u001b[0;32m<ipython-input-2-16d97ada8876>\u001b[0m in \u001b[0;36m<module>\u001b[0;34m\u001b[0m\n\u001b[1;32m     14\u001b[0m \u001b[0;32mfor\u001b[0m \u001b[0mfolder\u001b[0m \u001b[0;32min\u001b[0m \u001b[0;34m[\u001b[0m\u001b[0;34m'Test'\u001b[0m\u001b[0;34m,\u001b[0m\u001b[0;34m'Train'\u001b[0m\u001b[0;34m]\u001b[0m\u001b[0;34m:\u001b[0m\u001b[0;34m\u001b[0m\u001b[0;34m\u001b[0m\u001b[0m\n\u001b[1;32m     15\u001b[0m     \u001b[0;32mfor\u001b[0m \u001b[0mimg_class\u001b[0m \u001b[0;32min\u001b[0m \u001b[0;34m[\u001b[0m\u001b[0;34m'Fire'\u001b[0m\u001b[0;34m,\u001b[0m\u001b[0;34m'Neutral'\u001b[0m\u001b[0;34m,\u001b[0m\u001b[0;34m'Smoke'\u001b[0m\u001b[0;34m]\u001b[0m\u001b[0;34m:\u001b[0m\u001b[0;34m\u001b[0m\u001b[0;34m\u001b[0m\u001b[0m\n\u001b[0;32m---> 16\u001b[0;31m         \u001b[0;32mfor\u001b[0m \u001b[0mf\u001b[0m \u001b[0;32min\u001b[0m \u001b[0mos\u001b[0m\u001b[0;34m.\u001b[0m\u001b[0mlistdir\u001b[0m\u001b[0;34m(\u001b[0m\u001b[0mPATH_SOURCE\u001b[0m\u001b[0;34m+\u001b[0m\u001b[0mfolder\u001b[0m\u001b[0;34m+\u001b[0m\u001b[0;34m'/'\u001b[0m\u001b[0;34m+\u001b[0m\u001b[0mimg_class\u001b[0m\u001b[0;34m)\u001b[0m\u001b[0;34m:\u001b[0m\u001b[0;34m\u001b[0m\u001b[0;34m\u001b[0m\u001b[0m\n\u001b[0m\u001b[1;32m     17\u001b[0m             \u001b[0;32mif\u001b[0m \u001b[0mimg_class\u001b[0m \u001b[0;34m==\u001b[0m \u001b[0;34m'Fire'\u001b[0m \u001b[0;34m:\u001b[0m\u001b[0;34m\u001b[0m\u001b[0;34m\u001b[0m\u001b[0m\n\u001b[1;32m     18\u001b[0m                 \u001b[0mi_image\u001b[0m \u001b[0;34m+=\u001b[0m \u001b[0;36m1\u001b[0m\u001b[0;34m\u001b[0m\u001b[0;34m\u001b[0m\u001b[0m\n",
      "\u001b[0;31mFileNotFoundError\u001b[0m: [Errno 2] No such file or directory: './../dataset/data/Fire_Raw-data/FIRE-SMOKE-DATASET/Test/Fire'"
     ]
    }
   ],
   "source": [
    "PATH_TO_SORT = \"./../dataset/data/Fire_Raw-data/\"\n",
    "\n",
    "import shutil\n",
    "import os\n",
    "\n",
    "i_image = 0\n",
    "\n",
    "#Create necessary directories\n",
    "os.makedirs(PATH_TO_SORT+\"fire\", exist_ok=True)\n",
    "os.makedirs(PATH_TO_SORT+\"no_fire\", exist_ok=True)\n",
    "\n",
    "\n",
    "PATH_SOURCE = './../dataset/data/Fire_Raw-data/FIRE-SMOKE-DATASET/'\n",
    "for folder in ['Test','Train']:\n",
    "    for img_class in ['Fire','Neutral','Smoke']:\n",
    "        for f in os.listdir(PATH_SOURCE+folder+'/'+img_class):\n",
    "            if img_class == 'Fire' : \n",
    "                i_image += 1\n",
    "                src_path = PATH_SOURCE+folder+'/'+img_class+'/'+f\n",
    "                dst_path = PATH_TO_SORT+'fire/image_'+str(i_image)+'.'+f.split('.')[-1]\n",
    "            if img_class == 'Neutral' or img_class == 'Smoke': \n",
    "                i_image += 1\n",
    "                src_path = PATH_SOURCE+folder+'/'+img_class+'/'+f\n",
    "                dst_path = PATH_TO_SORT+'no_fire/image_'+str(i_image)+'.'+f.split('.')[-1]\n",
    "            os.rename(src_path, dst_path)\n",
    "shutil.rmtree(PATH_SOURCE)\n",
    "\n",
    "PATH_SOURCE = './../dataset/data/Fire_Raw-data/Wildfire-forest-fire/'\n",
    "for f in os.listdir(PATH_SOURCE) :\n",
    "    i_image += 1 \n",
    "    src_path = PATH_SOURCE+f\n",
    "    dst_path = PATH_TO_SORT+'fire/image_'+str(i_image)+'.'+f.split('.')[-1]\n",
    "    os.rename(src_path, dst_path)\n",
    "shutil.rmtree(PATH_SOURCE)\n",
    "\n",
    "PATH_SOURCES = ['./../dataset/data/Fire_Raw-data/Fire-Kaggle/','./../dataset/data/Fire_Raw-data/Fire-Kaggle/']\n",
    "for PATH_SOURCE in PATH_SOURCES:\n",
    "    for f in os.listdir(PATH_SOURCE+'fire'):\n",
    "        i_image += 1\n",
    "        src_path = PATH_SOURCE+'fire/'+f\n",
    "        dst_path = PATH_TO_SORT+'fire/image_'+str(i_image)+'.'+f.split('.')[-1]\n",
    "        os.rename(src_path, dst_path)\n",
    "    for f in os.listdir(PATH_SOURCE+'no_fire'):\n",
    "        i_image += 1\n",
    "        src_path = PATH_SOURCE+'no_fire/'+f\n",
    "        dst_path = PATH_TO_SORT+'no_fire/image_'+str(i_image)+'.'+f.split('.')[-1]\n",
    "        os.rename(src_path, dst_path)\n",
    "    shutil.rmtree(PATH_SOURCE)\n"
   ]
  },
  {
   "attachments": {},
   "cell_type": "markdown",
   "metadata": {},
   "source": [
    "## Split the data into training and testing"
   ]
  },
  {
   "cell_type": "code",
   "execution_count": 8,
   "metadata": {},
   "outputs": [],
   "source": [
    "#Ratio = (train,test)\n",
    "def split_images(path_dataset,ratio=(9,1)):\n",
    "    cpt = 0\n",
    "    (n_train,n_test) = ratio\n",
    "\n",
    "    #Create necessary directories\n",
    "    os.makedirs(path_dataset+\"train/fire\", exist_ok=True)\n",
    "    os.makedirs(path_dataset+\"test/fire\", exist_ok=True)\n",
    "    os.makedirs(path_dataset+\"train/no_fire\", exist_ok=True)\n",
    "    os.makedirs(path_dataset+\"test/no_fire\", exist_ok=True)\n",
    "\n",
    "    #Split Images\n",
    "    print(\"\\nStart split images\")\n",
    "    for dir in ['fire','no_fire']:\n",
    "       \n",
    "        for f in os.listdir(path_dataset+dir):\n",
    "            f_ext = f.split('.')[-1]\n",
    "            if f_ext in ['jpg','png','JPG','jpeg']:\n",
    "\n",
    "                if cpt < n_test:\n",
    "                    save_path = path_dataset+\"test/\"+dir+\"/\"+f\n",
    "                elif cpt < n_test + n_train:\n",
    "                    save_path = path_dataset+\"train/\"+dir+\"/\"+f\n",
    "\n",
    "                os.rename(path_dataset+dir+'/'+f,save_path)\n",
    "\n",
    "                if cpt == n_test + n_train -1:\n",
    "                    cpt = 0\n",
    "                else:\n",
    "                    cpt += 1\n",
    "        print(\"DIR DONE : \",dir)\n",
    "        shutil.rmtree(path_dataset+dir)"
   ]
  },
  {
   "cell_type": "code",
   "execution_count": 9,
   "metadata": {},
   "outputs": [
    {
     "name": "stdout",
     "output_type": "stream",
     "text": [
      "\n",
      "Start split images\n"
     ]
    },
    {
     "ename": "FileNotFoundError",
     "evalue": "[Errno 2] No such file or directory: './../dataset/data/Fire_Raw-data/fire'",
     "output_type": "error",
     "traceback": [
      "\u001b[0;31m---------------------------------------------------------------------------\u001b[0m",
      "\u001b[0;31mFileNotFoundError\u001b[0m                         Traceback (most recent call last)",
      "\u001b[0;32m<ipython-input-9-52187ca04068>\u001b[0m in \u001b[0;36m<module>\u001b[0;34m\u001b[0m\n\u001b[1;32m      5\u001b[0m \u001b[0;34m\u001b[0m\u001b[0m\n\u001b[1;32m      6\u001b[0m \u001b[0mPATH\u001b[0m \u001b[0;34m=\u001b[0m \u001b[0;34m\"./../dataset/data/Fire_Raw-data/\"\u001b[0m\u001b[0;34m\u001b[0m\u001b[0;34m\u001b[0m\u001b[0m\n\u001b[0;32m----> 7\u001b[0;31m \u001b[0msplit_images\u001b[0m\u001b[0;34m(\u001b[0m\u001b[0mPATH\u001b[0m\u001b[0;34m)\u001b[0m\u001b[0;34m\u001b[0m\u001b[0;34m\u001b[0m\u001b[0m\n\u001b[0m\u001b[1;32m      8\u001b[0m \u001b[0mprint\u001b[0m\u001b[0;34m(\u001b[0m\u001b[0;34m\"PATH DONE : \"\u001b[0m\u001b[0;34m,\u001b[0m\u001b[0mPATH\u001b[0m\u001b[0;34m)\u001b[0m\u001b[0;34m\u001b[0m\u001b[0;34m\u001b[0m\u001b[0m\n",
      "\u001b[0;32m<ipython-input-8-0bf45cb510b2>\u001b[0m in \u001b[0;36msplit_images\u001b[0;34m(path_dataset, ratio)\u001b[0m\n\u001b[1;32m     14\u001b[0m     \u001b[0;32mfor\u001b[0m \u001b[0mdir\u001b[0m \u001b[0;32min\u001b[0m \u001b[0;34m[\u001b[0m\u001b[0;34m'fire'\u001b[0m\u001b[0;34m,\u001b[0m\u001b[0;34m'no_fire'\u001b[0m\u001b[0;34m]\u001b[0m\u001b[0;34m:\u001b[0m\u001b[0;34m\u001b[0m\u001b[0;34m\u001b[0m\u001b[0m\n\u001b[1;32m     15\u001b[0m \u001b[0;34m\u001b[0m\u001b[0m\n\u001b[0;32m---> 16\u001b[0;31m         \u001b[0;32mfor\u001b[0m \u001b[0mf\u001b[0m \u001b[0;32min\u001b[0m \u001b[0mos\u001b[0m\u001b[0;34m.\u001b[0m\u001b[0mlistdir\u001b[0m\u001b[0;34m(\u001b[0m\u001b[0mpath_dataset\u001b[0m\u001b[0;34m+\u001b[0m\u001b[0mdir\u001b[0m\u001b[0;34m)\u001b[0m\u001b[0;34m:\u001b[0m\u001b[0;34m\u001b[0m\u001b[0;34m\u001b[0m\u001b[0m\n\u001b[0m\u001b[1;32m     17\u001b[0m             \u001b[0mf_ext\u001b[0m \u001b[0;34m=\u001b[0m \u001b[0mf\u001b[0m\u001b[0;34m.\u001b[0m\u001b[0msplit\u001b[0m\u001b[0;34m(\u001b[0m\u001b[0;34m'.'\u001b[0m\u001b[0;34m)\u001b[0m\u001b[0;34m[\u001b[0m\u001b[0;34m-\u001b[0m\u001b[0;36m1\u001b[0m\u001b[0;34m]\u001b[0m\u001b[0;34m\u001b[0m\u001b[0;34m\u001b[0m\u001b[0m\n\u001b[1;32m     18\u001b[0m             \u001b[0;32mif\u001b[0m \u001b[0mf_ext\u001b[0m \u001b[0;32min\u001b[0m \u001b[0;34m[\u001b[0m\u001b[0;34m'jpg'\u001b[0m\u001b[0;34m,\u001b[0m\u001b[0;34m'png'\u001b[0m\u001b[0;34m,\u001b[0m\u001b[0;34m'JPG'\u001b[0m\u001b[0;34m,\u001b[0m\u001b[0;34m'jpeg'\u001b[0m\u001b[0;34m]\u001b[0m\u001b[0;34m:\u001b[0m\u001b[0;34m\u001b[0m\u001b[0;34m\u001b[0m\u001b[0m\n",
      "\u001b[0;31mFileNotFoundError\u001b[0m: [Errno 2] No such file or directory: './../dataset/data/Fire_Raw-data/fire'"
     ]
    }
   ],
   "source": [
    "# PATHS_TO_SPLIT = [\"./../dataset/data/Fire_Raw-data/\",\"./../dataset/data/Forest-Fire-CV/\",\"./../dataset/data/Forest-Fire-Kaggle-1/\",\"./../dataset/data/Forest-Fire-Kaggle-2/\",\"./../dataset/data/Forest-Fire-Kaggle-3/\"]\n",
    "# for PATH_TO_SPLIT in PATHS_TO_SPLIT:\n",
    "#     split_images(PATH_TO_SPLIT)\n",
    "#     print(\"PATH DONE : \",PATH_TO_SPLIT)\n",
    "\n",
    "PATH = \"./../dataset/data/Fire_Raw-data/\"\n",
    "split_images(PATH)\n",
    "print(\"PATH DONE : \",PATH)\n"
   ]
  }
 ],
 "metadata": {
  "kernelspec": {
   "display_name": "Python 3",
   "language": "python",
   "name": "python3"
  },
  "language_info": {
   "codemirror_mode": {
    "name": "ipython",
    "version": 3
   },
   "file_extension": ".py",
   "mimetype": "text/x-python",
   "name": "python",
   "nbconvert_exporter": "python",
   "pygments_lexer": "ipython3",
   "version": "3.8.10"
  },
  "orig_nbformat": 4,
  "vscode": {
   "interpreter": {
    "hash": "31f2aee4e71d21fbe5cf8b01ff0e069b9275f58929596ceb00d14d90e3e16cd6"
   }
  }
 },
 "nbformat": 4,
 "nbformat_minor": 2
}
